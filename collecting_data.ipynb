{
 "cells": [
  {
   "cell_type": "markdown",
   "metadata": {},
   "source": [
    "# Collecting Data\n",
    "\n",
    "The foundation of your project will be to collect appropriate data for the problem you are trying to solve. There is incredible versatility in how you can use an machine learning model. Some examples might be to predict the next social media trend, categorizing cancer cells, trying to better understand the relationship between temperature fluctuations and coffee bean growth rates, or creating a chat bot.\n",
    "\n",
    "Since we are very early in this course, and - most likely at this point - have not discussed many models, it may be difficult to know what you can do with a dataset, or what is in scope of this course. So by the nature of the course title \"Exploring Machine Learning\" we will take an explorative approach to your project. \n",
    "\n",
    "The goal of this part of the project is to explore what data sets you might be interested in, below will be questions to help guide you to selecting a category of data that you want to further explore."
   ]
  },
  {
   "cell_type": "markdown",
   "metadata": {},
   "source": []
  },
  {
   "cell_type": "markdown",
   "metadata": {},
   "source": [
    "## Identifying what data you want to explore\n",
    "\n",
    "Data is everywhere and there seems to be data on about anything. You might know exactly what you want to dive deeper into or you might have no idea. Either way I invite you answer the questions below.\n",
    "\n",
    "Below create a python dictionary with the key being a short summary of the topic of interest, while the value is an explanation of your interest - such as why you are interested in this topic, or why do you feel a strong passion to understand this topic. A topic of interest could be research you are conducting, a topic you are studying at your job, hobbies you have or topics surrounding your identities.\n",
    "\n",
    "List 5 topics, and for each topic put at least a 50 word description.\n",
    "\n",
    "For example I might put:\n",
    "\n",
    "```python\n",
    "interests = {\n",
    "    \"Cats\" : \"I have two cats at home, they are basically my children. I would generally like to learn more about cat behavior, health trends and pet owner behavior. It may be interesting to also see industry trends of cat owner, or how they compare to dog owners. Maybe later I want to start to write an app that recognizes cat breeds\",\n",
    "\n",
    "    \"Scuba\" : \"The study of scuba diving seems to be a 'soft' science, and there are general guidelines on when and how long you should do safety stops to avoid getting decompression sickness. Could there be links to human anatomy or behavior on how deep a person should go safely during a dive?\",\n",
    "}\n",
    "```"
   ]
  },
  {
   "cell_type": "code",
   "execution_count": 17,
   "metadata": {},
   "outputs": [
    {
     "name": "stdout",
     "output_type": "stream",
     "text": [
      "This is an       extended string \n"
     ]
    }
   ],
   "source": [
    "# Do not edit the name of this function, it will be used for grading\n",
    "def what_are_topics_you_are_interested_in():\n",
    "    interests = {\n",
    "        \"Cognitive Science\" : \"I have been interested in how people think and why they behave in various ways since I was little. \\\n",
    "    After my time in the Navy, I decided to pursue a medical degree. However, as I studied Biology/Chemistry/Physics, I gravitated \\\n",
    "    toward neuroscience, feeling called by the mysteries of the brain and a possible mind. To me, the fact that the 'lights are on,' \\\n",
    "    that I exist as a thinking thing in this world, is weirder and cooler than anything else. Thus to push human understanding of our \\\n",
    "    own internal system is a lifelong goal of mine.\",\n",
    "\n",
    "        \"Video Games\" : \"Similar to my interest in the mind, my interest in video games started when I was a kid. I can remember staying up \\\n",
    "    past my bedtime to play Pokemon by lava lamp light. However, as much as I believe video games are a leisure activity, these games \\\n",
    "    may be the best methodology to study the mind. This virtual platform can potentially be a foundational task environment for \\\n",
    "    cognitive science of equal magnitude as the Drosophila for genetics. Given that the environments are completely replicable while \\\n",
    "    being dynamic and the user is stationary, insights into real-time strategic decision-making and problem-solving behaviors in humans \\\n",
    "    can likely be gleaned.\",\n",
    "\n",
    "        \"Spacetime lines\" : \"My fascination with research lies in its ability to model the world's evolution through mathematics. \\\n",
    "    One of my favorite physicists Richard Feynman simplified complex particle interactions into spacetime diagrams. Like him, I aspire \\\n",
    "    to translate in-game behaviors into similar spacetime diagrams to deepen our understanding of the human mind, using game telemetry \\\n",
    "    and psychophysiological measurement tools. Other versions of these lines can be found in migration patterns, fluid dynamics, etc.\",\n",
    "    \n",
    "        \"Religions\" : \"The spiritual expression of the planet is something that I also find super interesting and important. Growing up in \\\n",
    "    the rural south, I was presented with various forms of Christianity to explain our moral code and reason for existence. However, again, \\\n",
    "    with age and curiosity, I found a hidden world. While I think the Christian tradition in aspects like ultimate utilitarianistic sacrifice \\\n",
    "    is beautiful. I also find the practices of Taoism, Buddhism, Hinduism, Islam, and Judaism enlightening. To paraphrase Alan Watts, \\\n",
    "    religions are fingers pointing at the moon, if you stare at the finger you'll miss the moon.\",\n",
    "\n",
    "        \"Walking around in Umstead Park with my dog Ashe\" : \"My favorite thing about the Raleigh area is Umstead Park. Every \\\n",
    "    fall/winter/early-spring Ashe and I have gone exploring in the woods of Umstead. He is a blue heeler and obeys commands well, so together \\\n",
    "    we go exploring in the woods between the trails. We've seen several coyotes, a murder of thousands of crows, beavers, raccoons, orb weaver \\\n",
    "    spiders, and deer galore. I've collected about ten dropped deer antlers that I've turned into a candle holder. He and I will go out in the \\\n",
    "    mornings, he'll run and I'll listen to whatever philosophical YouTube video or book is peaking my interest. I've listened to entire lecture \\\n",
    "    series, classical novels, and music while romping around with Sir Thingaton Leopold the third Jr. Sr. esquire the viscount of Remington Place \\\n",
    "    (Ashe).\"\n",
    "    } # Fill out your interests\n",
    "    return interests\n",
    "# Note: you can use the \\ symbol to continue your string to the next line, this makes \n",
    "# things look a bit prettier\n",
    "# Example:\n",
    "print(\"This is an \\\n",
    "      extended string \")"
   ]
  },
  {
   "cell_type": "markdown",
   "metadata": {},
   "source": [
    "## Do datasets exist for my interests?\n",
    "\n",
    "There is lots of data out there but not for everything. Below are some websites where you can take a look at available datasets. Go ahead and search for datasets related to your topic. Are there many data sets surrounding your topic? Are there many different types of data like categorical, regression, images, etc? If there are limited data sets, do you feel comfortable with the challenge of creating your own data? (Note creating your own data set to supplement existing datasets will increase your score on this assignment)\n",
    "\n",
    "> You can find a link to databases on the course page!\n",
    "\n",
    "For 3 of your topics find 3 databases you might want to use for your project. Below create a dictionary with the keys being the topic values you listed above and the value a link of 3 data bases you would like to explore. If you would like to make your own data too make add a string \"Create my own data\" to the end of the list\n",
    "\n",
    "Note, if you have trouble finding datasets for your topic you can make your dataset more general, or try a different topic. For example for my \"Cats\" topic I could expand it to \"Pets\", \"Pet Toy Sales\" or \"Pet Health Benefits\"\n",
    "\n",
    "You can always change your topic and dataset later, so don't feel that these decisions are permanent.\n",
    "\n",
    "While searching did it generate any ideas on interests or data sets you would like to explore? - If so you can add or replace a topic to the dictionary above!\n",
    "\n",
    "\n",
    "Example\"\n",
    "\n",
    "```python\n",
    "datasets = {\n",
    "    \"Cats\" : [\"https://www.kaggle.com/datasets/ma7555/cat-breeds-dataset\", \"https://example.com\", \"https://example.com\", \"Create my own data\"],\n",
    "\n",
    "    \"Second Topic\": [\"https://example.com\", \"https://example.com\", \"https://example.com\"],\n",
    "    \n",
    "    \"Third Topic\" : [\"https://example.com\", \"https://example.com\", \"https://example.com\"]\n",
    "}\n",
    "```\n"
   ]
  },
  {
   "cell_type": "code",
   "execution_count": 18,
   "metadata": {},
   "outputs": [],
   "source": [
    "def find_some_datasets():\n",
    "    datasets = {\n",
    "        \"Cognitive Science\" : [\"https://openneuro.org/\", \"http://www.humanconnectomeproject.org/\", \"https://reproducibility.stanford.edu/\"],\n",
    "        \n",
    "        \"Video Games\" : [\"https://corgis-edu.github.io/corgis/csv/video_games/\", \"https://www.kaggle.com/datasets\", \\\n",
    "    \"https://developer.riotgames.com/apis\", \"My own LoL research data from placebo experiment\"],\n",
    "        \n",
    "        \"Spacetime lines\" : [\"https://www.earthdata.nasa.gov/\", \"https://www.movebank.org/cms/movebank-main\", \"https://animove.org/\"]\n",
    "    }\n",
    "    return datasets"
   ]
  },
  {
   "cell_type": "markdown",
   "metadata": {},
   "source": [
    "## Asking questions about your dataset\n",
    "\n",
    "Some questions you might want to ask for each dataset are:\n",
    "- Who created this dataset?\n",
    "- When was this dataset created?\n",
    "- Could there be any biases when creating this dataset?\n",
    "- How was this data collected?\n",
    "- Is this data representative of the problem I am trying to solve?\n"
   ]
  }
 ],
 "metadata": {
  "kernelspec": {
   "display_name": "Python 3",
   "language": "python",
   "name": "python3"
  },
  "language_info": {
   "codemirror_mode": {
    "name": "ipython",
    "version": 3
   },
   "file_extension": ".py",
   "mimetype": "text/x-python",
   "name": "python",
   "nbconvert_exporter": "python",
   "pygments_lexer": "ipython3",
   "version": "3.11.9"
  }
 },
 "nbformat": 4,
 "nbformat_minor": 2
}
